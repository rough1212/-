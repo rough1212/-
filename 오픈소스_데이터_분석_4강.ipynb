{
  "nbformat": 4,
  "nbformat_minor": 0,
  "metadata": {
    "colab": {
      "provenance": [],
      "include_colab_link": true
    },
    "kernelspec": {
      "name": "python3",
      "display_name": "Python 3"
    },
    "language_info": {
      "name": "python"
    }
  },
  "cells": [
    {
      "cell_type": "markdown",
      "metadata": {
        "id": "view-in-github",
        "colab_type": "text"
      },
      "source": [
        "<a href=\"https://colab.research.google.com/github/rough1212/-/blob/main/%EC%98%A4%ED%94%88%EC%86%8C%EC%8A%A4_%EB%8D%B0%EC%9D%B4%ED%84%B0_%EB%B6%84%EC%84%9D_4%EA%B0%95.ipynb\" target=\"_parent\"><img src=\"https://colab.research.google.com/assets/colab-badge.svg\" alt=\"Open In Colab\"/></a>"
      ]
    },
    {
      "cell_type": "markdown",
      "source": [
        "\n",
        "\n",
        "# 오픈소스 기반 데이터 분석 4강 - 데이터 수집\n"
      ],
      "metadata": {
        "id": "DkPKaAsoRq5Q"
      }
    },
    {
      "cell_type": "code",
      "source": [
        "import requests\n",
        "import pandas as pd\n",
        "from tqdm import tqdm  # 진행상황 표시용 (선택)\n",
        "\n",
        "# 본인의 API 키 입력\n",
        "API_KEY = \"5a527177656c6a6d3835624b495950\"\n",
        "BASE_URL = \"http://openapi.seoul.go.kr:8088\"\n",
        "\n",
        "# 결과 저장용 리스트\n",
        "data_list = []\n",
        "\n",
        "# 2015년 1월 ~ 2024년 12월까지 반복\n",
        "for year in range(2015, 2025): # 2015년 1월부터 2024년 12월까지\n",
        "    for month in range(1, 13):\n",
        "        ym = f\"{year}-{month:02d}\" #날짜 형식\n",
        "        url = f\"{BASE_URL}/{API_KEY}/json/energyUseSummarryinfo/1/100/{year}/{month:02d}/\"\n",
        "\n",
        "        try:\n",
        "            response = requests.get(url)\n",
        "            response.raise_for_status()\n",
        "            result = response.json()\n",
        "\n",
        "            # API 응답에 데이터가 존재하는지 확인\n",
        "            if \"energyUseSummarryinfo\" in result and \"row\" in result[\"energyUseSummarryinfo\"]:\n",
        "                rows = result[\"energyUseSummarryinfo\"][\"row\"]\n",
        "\n",
        "                for row in rows:\n",
        "                    # 개인 유형만 추출\n",
        "                    if row.get(\"DIV_NM\") == \"개인\":\n",
        "                        data_list.append({\n",
        "                            \"연월\": ym,\n",
        "                            \"구분\": row.get(\"DIV_NM\"),\n",
        "                            \"전기\": row.get(\"ELECTRICITY\", None),\n",
        "                            \"가스\": row.get(\"GAS\", None),\n",
        "                            \"수도\": row.get(\"WATER\", None),\n",
        "                            \"지역난방\": row.get(\"HEATING\", None)\n",
        "                        })\n",
        "        except Exception as e:\n",
        "            print(f\"Error at {ym}: {e}\")\n",
        "\n"
      ],
      "metadata": {
        "id": "-EN4a-rkmcQ0"
      },
      "execution_count": 6,
      "outputs": []
    },
    {
      "cell_type": "code",
      "source": [
        "import requests\n",
        "import pandas as pd\n",
        "import json\n",
        "import time\n",
        "\n",
        "#API 키 입력\n",
        "API_KEY = \"5a527177656c6a6d3835624b495950\"\n",
        "BASE_URL = \"http://openapi.seoul.go.kr:8088\"\n",
        "\n",
        "# 결과 저장 리스트\n",
        "data_list = []\n",
        "\n",
        "# 2015년 1월 ~ 2024년 12월 반복\n",
        "for year in range(2015, 2025):  # 2015년 1월부터 2024년 12월까지\n",
        "    for month in range(1, 13):\n",
        "        ym = f\"{year}-{month:02d}\"  #날짜 형식\n",
        "        url = f\"{BASE_URL}/{API_KEY}/json/energyUseSummarryinfo/1/100/{year}/{month:02d}/\"\n",
        "\n",
        "        try:\n",
        "            response = requests.get(url)\n",
        "            response.raise_for_status()\n",
        "            result = response.json()\n",
        "\n",
        "            # API 호출 성공 로그\n",
        "            if \"energyUseSummarryinfo\" in result:\n",
        "                rows = result[\"energyUseSummarryinfo\"].get(\"row\", [])\n",
        "                print(f\"{ym} 호출 성공, 데이터 {len(rows)}건\")\n",
        "\n",
        "                for row in rows:\n",
        "                    # 개인 유형만 추출\n",
        "                    if row.get(\"DIV_NM\") == \"개인\":\n",
        "                        data_list.append({\n",
        "                            \"연월\": ym,\n",
        "                            \"구분\": row.get(\"DIV_NM\"),\n",
        "                            \"전기\": row.get(\"ELECTRICITY\", None),\n",
        "                            \"가스\": row.get(\"GAS\", None),\n",
        "                            \"수도\": row.get(\"WATER\", None),\n",
        "                            \"지역난방\": row.get(\"HEATING\", None)\n",
        "                        })\n",
        "            else:\n",
        "                print(f\"{ym} 호출 실패 (데이터 없음)\")\n",
        "\n",
        "        except Exception as e:\n",
        "            print(f\"❌ {ym} 호출 오류:\", e)\n",
        "\n",
        "        time.sleep(0.2)  # 서버 부하 방지를 위한 딜레이"
      ],
      "metadata": {
        "id": "AwoMXgZnxCRX",
        "outputId": "3aa20aaa-1aa0-4d9c-a56b-0c2fb58aa0e1",
        "colab": {
          "base_uri": "https://localhost:8080/"
        }
      },
      "execution_count": 7,
      "outputs": [
        {
          "output_type": "stream",
          "name": "stdout",
          "text": [
            "⚠️ 2015-01 호출 실패 (데이터 없음)\n",
            "⚠️ 2015-02 호출 실패 (데이터 없음)\n",
            "⚠️ 2015-03 호출 실패 (데이터 없음)\n",
            "⚠️ 2015-04 호출 실패 (데이터 없음)\n",
            "⚠️ 2015-05 호출 실패 (데이터 없음)\n",
            "⚠️ 2015-06 호출 실패 (데이터 없음)\n",
            "⚠️ 2015-07 호출 실패 (데이터 없음)\n",
            "⚠️ 2015-08 호출 실패 (데이터 없음)\n",
            "⚠️ 2015-09 호출 실패 (데이터 없음)\n",
            "⚠️ 2015-10 호출 실패 (데이터 없음)\n",
            "⚠️ 2015-11 호출 실패 (데이터 없음)\n",
            "⚠️ 2015-12 호출 실패 (데이터 없음)\n",
            "⚠️ 2016-01 호출 실패 (데이터 없음)\n",
            "⚠️ 2016-02 호출 실패 (데이터 없음)\n",
            "⚠️ 2016-03 호출 실패 (데이터 없음)\n",
            "⚠️ 2016-04 호출 실패 (데이터 없음)\n",
            "⚠️ 2016-05 호출 실패 (데이터 없음)\n",
            "⚠️ 2016-06 호출 실패 (데이터 없음)\n",
            "⚠️ 2016-07 호출 실패 (데이터 없음)\n",
            "⚠️ 2016-08 호출 실패 (데이터 없음)\n",
            "⚠️ 2016-09 호출 실패 (데이터 없음)\n",
            "⚠️ 2016-10 호출 실패 (데이터 없음)\n",
            "⚠️ 2016-11 호출 실패 (데이터 없음)\n",
            "⚠️ 2016-12 호출 실패 (데이터 없음)\n",
            "⚠️ 2017-01 호출 실패 (데이터 없음)\n",
            "⚠️ 2017-02 호출 실패 (데이터 없음)\n",
            "⚠️ 2017-03 호출 실패 (데이터 없음)\n",
            "⚠️ 2017-04 호출 실패 (데이터 없음)\n",
            "⚠️ 2017-05 호출 실패 (데이터 없음)\n",
            "⚠️ 2017-06 호출 실패 (데이터 없음)\n",
            "⚠️ 2017-07 호출 실패 (데이터 없음)\n",
            "⚠️ 2017-08 호출 실패 (데이터 없음)\n",
            "⚠️ 2017-09 호출 실패 (데이터 없음)\n",
            "⚠️ 2017-10 호출 실패 (데이터 없음)\n",
            "⚠️ 2017-11 호출 실패 (데이터 없음)\n",
            "⚠️ 2017-12 호출 실패 (데이터 없음)\n",
            "⚠️ 2018-01 호출 실패 (데이터 없음)\n",
            "⚠️ 2018-02 호출 실패 (데이터 없음)\n",
            "⚠️ 2018-03 호출 실패 (데이터 없음)\n",
            "⚠️ 2018-04 호출 실패 (데이터 없음)\n",
            "⚠️ 2018-05 호출 실패 (데이터 없음)\n",
            "⚠️ 2018-06 호출 실패 (데이터 없음)\n",
            "⚠️ 2018-07 호출 실패 (데이터 없음)\n",
            "⚠️ 2018-08 호출 실패 (데이터 없음)\n",
            "⚠️ 2018-09 호출 실패 (데이터 없음)\n",
            "⚠️ 2018-10 호출 실패 (데이터 없음)\n",
            "⚠️ 2018-11 호출 실패 (데이터 없음)\n",
            "⚠️ 2018-12 호출 실패 (데이터 없음)\n",
            "⚠️ 2019-01 호출 실패 (데이터 없음)\n",
            "⚠️ 2019-02 호출 실패 (데이터 없음)\n",
            "⚠️ 2019-03 호출 실패 (데이터 없음)\n",
            "⚠️ 2019-04 호출 실패 (데이터 없음)\n",
            "⚠️ 2019-05 호출 실패 (데이터 없음)\n",
            "⚠️ 2019-06 호출 실패 (데이터 없음)\n",
            "⚠️ 2019-07 호출 실패 (데이터 없음)\n",
            "⚠️ 2019-08 호출 실패 (데이터 없음)\n",
            "⚠️ 2019-09 호출 실패 (데이터 없음)\n",
            "⚠️ 2019-10 호출 실패 (데이터 없음)\n",
            "⚠️ 2019-11 호출 실패 (데이터 없음)\n",
            "⚠️ 2019-12 호출 실패 (데이터 없음)\n",
            "⚠️ 2020-01 호출 실패 (데이터 없음)\n",
            "⚠️ 2020-02 호출 실패 (데이터 없음)\n",
            "⚠️ 2020-03 호출 실패 (데이터 없음)\n",
            "⚠️ 2020-04 호출 실패 (데이터 없음)\n",
            "⚠️ 2020-05 호출 실패 (데이터 없음)\n",
            "⚠️ 2020-06 호출 실패 (데이터 없음)\n",
            "⚠️ 2020-07 호출 실패 (데이터 없음)\n",
            "⚠️ 2020-08 호출 실패 (데이터 없음)\n",
            "⚠️ 2020-09 호출 실패 (데이터 없음)\n",
            "⚠️ 2020-10 호출 실패 (데이터 없음)\n",
            "⚠️ 2020-11 호출 실패 (데이터 없음)\n",
            "⚠️ 2020-12 호출 실패 (데이터 없음)\n",
            "⚠️ 2021-01 호출 실패 (데이터 없음)\n",
            "⚠️ 2021-02 호출 실패 (데이터 없음)\n",
            "⚠️ 2021-03 호출 실패 (데이터 없음)\n",
            "⚠️ 2021-04 호출 실패 (데이터 없음)\n",
            "⚠️ 2021-05 호출 실패 (데이터 없음)\n",
            "⚠️ 2021-06 호출 실패 (데이터 없음)\n",
            "⚠️ 2021-07 호출 실패 (데이터 없음)\n",
            "⚠️ 2021-08 호출 실패 (데이터 없음)\n",
            "⚠️ 2021-09 호출 실패 (데이터 없음)\n",
            "⚠️ 2021-10 호출 실패 (데이터 없음)\n",
            "⚠️ 2021-11 호출 실패 (데이터 없음)\n",
            "⚠️ 2021-12 호출 실패 (데이터 없음)\n",
            "⚠️ 2022-01 호출 실패 (데이터 없음)\n",
            "⚠️ 2022-02 호출 실패 (데이터 없음)\n",
            "⚠️ 2022-03 호출 실패 (데이터 없음)\n",
            "⚠️ 2022-04 호출 실패 (데이터 없음)\n",
            "⚠️ 2022-05 호출 실패 (데이터 없음)\n",
            "⚠️ 2022-06 호출 실패 (데이터 없음)\n",
            "⚠️ 2022-07 호출 실패 (데이터 없음)\n",
            "⚠️ 2022-08 호출 실패 (데이터 없음)\n",
            "⚠️ 2022-09 호출 실패 (데이터 없음)\n",
            "⚠️ 2022-10 호출 실패 (데이터 없음)\n",
            "⚠️ 2022-11 호출 실패 (데이터 없음)\n",
            "⚠️ 2022-12 호출 실패 (데이터 없음)\n",
            "⚠️ 2023-01 호출 실패 (데이터 없음)\n",
            "⚠️ 2023-02 호출 실패 (데이터 없음)\n",
            "⚠️ 2023-03 호출 실패 (데이터 없음)\n",
            "⚠️ 2023-04 호출 실패 (데이터 없음)\n",
            "⚠️ 2023-05 호출 실패 (데이터 없음)\n",
            "⚠️ 2023-06 호출 실패 (데이터 없음)\n",
            "⚠️ 2023-07 호출 실패 (데이터 없음)\n",
            "⚠️ 2023-08 호출 실패 (데이터 없음)\n",
            "⚠️ 2023-09 호출 실패 (데이터 없음)\n",
            "⚠️ 2023-10 호출 실패 (데이터 없음)\n",
            "⚠️ 2023-11 호출 실패 (데이터 없음)\n",
            "⚠️ 2023-12 호출 실패 (데이터 없음)\n",
            "⚠️ 2024-01 호출 실패 (데이터 없음)\n",
            "⚠️ 2024-02 호출 실패 (데이터 없음)\n",
            "⚠️ 2024-03 호출 실패 (데이터 없음)\n",
            "⚠️ 2024-04 호출 실패 (데이터 없음)\n",
            "⚠️ 2024-05 호출 실패 (데이터 없음)\n",
            "⚠️ 2024-06 호출 실패 (데이터 없음)\n",
            "⚠️ 2024-07 호출 실패 (데이터 없음)\n",
            "⚠️ 2024-08 호출 실패 (데이터 없음)\n",
            "⚠️ 2024-09 호출 실패 (데이터 없음)\n",
            "⚠️ 2024-10 호출 실패 (데이터 없음)\n",
            "⚠️ 2024-11 호출 실패 (데이터 없음)\n",
            "⚠️ 2024-12 호출 실패 (데이터 없음)\n"
          ]
        }
      ]
    },
    {
      "cell_type": "code",
      "source": [
        "import requests\n",
        "\n",
        "API_KEY = \"5a527177656c6a6d3835624b495950\"\n",
        "year, month = 2020, 1\n",
        "\n",
        "url = f\"http://openapi.seoul.go.kr:8088/{API_KEY}/json/energyUseSummarryinfo/1/5/{year}/{month:02d}/\"\n",
        "print(\"📡 호출 URL:\", url)\n",
        "\n",
        "r = requests.get(url)\n",
        "print(\"상태코드:\", r.status_code)\n",
        "print(\"응답 텍스트:\", r.text[:500])  # 앞부분만 출력\n"
      ],
      "metadata": {
        "id": "CfkAbNNfy3Gf",
        "outputId": "3c83a933-0d10-4b29-f371-ccebd1e1628c",
        "colab": {
          "base_uri": "https://localhost:8080/"
        }
      },
      "execution_count": 8,
      "outputs": [
        {
          "output_type": "stream",
          "name": "stdout",
          "text": [
            "📡 호출 URL: http://openapi.seoul.go.kr:8088/5a527177656c6a6d3835624b495950/json/energyUseSummarryinfo/1/5/2020/01/\n",
            "상태코드: 200\n",
            "응답 텍스트: {\"RESULT\":{\"CODE\":\"ERROR-500\",\"MESSAGE\":\"서버 오류입니다.\\n지속적으로 발생시 열린 데이터 광장으로 문의(Q&A) 바랍니다.\"}}\n"
          ]
        }
      ]
    },
    {
      "cell_type": "markdown",
      "source": [
        "## 4-1 CSV 파일 읽기"
      ],
      "metadata": {
        "id": "-I7BVVlnRrB0"
      }
    },
    {
      "cell_type": "code",
      "source": [
        "import pandas as pd\n",
        "\n",
        "## data.csv 파일 읽기\n",
        "\n",
        "print(df)"
      ],
      "metadata": {
        "id": "2Y2HEiaiRwAI"
      },
      "execution_count": null,
      "outputs": []
    },
    {
      "cell_type": "markdown",
      "source": [
        "## 4-2 JSON 파일 읽기\n",
        "\n"
      ],
      "metadata": {
        "id": "9kHCFaGlRrE0"
      }
    },
    {
      "cell_type": "code",
      "source": [
        "import json\n",
        "import pandas as pd\n",
        "\n",
        "## data.json 파일 출력\n",
        "\n",
        "## data.json 파일 DataFrame 읽기\n",
        "\n",
        "print(df)"
      ],
      "metadata": {
        "id": "IO8bsKekR0W_"
      },
      "execution_count": null,
      "outputs": []
    },
    {
      "cell_type": "markdown",
      "source": [
        "## 4-3 텍스트 파일 읽기 및 데이터 추출"
      ],
      "metadata": {
        "id": "uLd_3A_IRrHG"
      }
    },
    {
      "cell_type": "code",
      "source": [
        "import re\n",
        "\n",
        "## 파일(callcenter20250301.log) 오픈 및 읽기\n",
        "with open('callcenter20250301.log', 'r', encoding='utf-8') as f:\n",
        "    content = f.read()\n",
        "## 주민등록번호 패턴 생성\n",
        "\n",
        "## 주민등록번호 마스킹\n",
        "\n",
        "\n",
        "## 마스킹된 파일(callcenter20250301_masked.log) 오픈 및 쓰기\n",
        "\n",
        "\n",
        "print(\"주민등록번호 마스킹 완료. 'callcenter20250301_masked.log.txt' 파일로 저장되었습니다.\")"
      ],
      "metadata": {
        "id": "60qOf7uxVdAg"
      },
      "execution_count": null,
      "outputs": []
    },
    {
      "cell_type": "markdown",
      "source": [
        "## 4-4 Open-Meteo의 무료 날씨 API를 통한 특정 지역 온도 조회"
      ],
      "metadata": {
        "id": "eOMufu5SXiAU"
      }
    },
    {
      "cell_type": "code",
      "source": [
        "import requests\n",
        "import json\n",
        "\n",
        "url = \"https://api.open-meteo.com/v1/forecast?=&=&current=temperature_2m\"\n",
        "params = {\n",
        "    \"latitude\": \"37.58638333\",\n",
        "    \"longitude\": \"127.0203333\",\n",
        "    \"current\": \"temperature_2m\"\n",
        "}\n",
        "\n",
        "try:\n",
        "    ## URL 및 파라미터 전송\n",
        "\n",
        "    ## JSON 데이터 읽기\n",
        "\n",
        "    print(\"API 응답:\", data)\n",
        "    print(\"서울시 종로구의 현재 온도는 : {0}{1} 입니다.\".format(data['current']['temperature_2m'], data['current_units']['temperature_2m']))\n",
        "\n",
        "except requests.exceptions.RequestException as e:\n",
        "    print(f\"API 호출 실패: {e}\")\n",
        "except json.JSONDecodeError as e:\n",
        "    print(f\"JSON 파싱 실패: {e}\")"
      ],
      "metadata": {
        "id": "JpmgdsW9V0CY"
      },
      "execution_count": null,
      "outputs": []
    },
    {
      "cell_type": "markdown",
      "source": [
        "## 4-5 Selenium과 lxml을 이용한 웹 스크래핑"
      ],
      "metadata": {
        "id": "RLfPaa1ZiqIC"
      }
    },
    {
      "cell_type": "code",
      "source": [
        "!curl -o google-chrome-stable_current_amd64.deb https://dl.google.com/linux/direct/google-chrome-stable_current_amd64.deb\n",
        "!apt install ./google-chrome-stable_current_amd64.deb -y\n",
        "!pip install selenium webdriver_manager"
      ],
      "metadata": {
        "id": "79dmM7MNk8pB"
      },
      "execution_count": null,
      "outputs": []
    },
    {
      "cell_type": "code",
      "source": [
        "from selenium import webdriver\n",
        "from selenium.webdriver.chrome.service import Service as ChromeService\n",
        "from webdriver_manager.chrome import ChromeDriverManager\n",
        "from selenium.webdriver.common.by import By\n",
        "from lxml import html\n",
        "import time\n",
        "\n",
        "chrome_options = webdriver.ChromeOptions()\n",
        "chrome_options.add_argument('--headless')               # 브라우저 창 없이 실행\n",
        "chrome_options.add_argument('--no-sandbox')             # 보안모드 비활성화 (Colab 필수)\n",
        "chrome_options.add_argument('--disable-dev-shm-usage')  # 메모리 부족 방지 (Colab 필수)\n",
        "chrome_options.add_argument('--window-size=1920x1080')  # 창 크기 설정(가상)\n",
        "chrome_options.add_argument('--disable-gpu')            # GPU 가속 비활성화 (일부 환경 안정성)\n",
        "chrome_options.binary_location = \"/usr/bin/google-chrome-stable\"  # Colab용 크롬 경로 지정\n",
        "\n",
        "## 드라이버 실행\n",
        "driver = webdriver.Chrome(options=chrome_options)\n",
        "\n",
        "## 사이트 접속\n",
        "\n",
        "\n",
        "## 사이트 접속 대기\n",
        "\n",
        "\n",
        "## 페이지 제목 출력\n",
        "\n",
        "\n",
        "## 드라이버 종료\n",
        "driver.quit()"
      ],
      "metadata": {
        "id": "cRC8x3_iW0im"
      },
      "execution_count": null,
      "outputs": []
    },
    {
      "cell_type": "markdown",
      "source": [
        "\n",
        "# 실습 시나리오"
      ],
      "metadata": {
        "id": "Bu6OMZyGirOq"
      }
    },
    {
      "cell_type": "markdown",
      "source": [
        "## 공공데이터 포털 가입 및 데이터 신청\n",
        "\n",
        "- [https://www.data.go.kr](https://www.data.go.kr)\n",
        "- 한국환경공단 에어코리아 대기오염정보 데이터 신청"
      ],
      "metadata": {
        "id": "nsuqRN9RkZlW"
      }
    },
    {
      "cell_type": "code",
      "source": [
        "import requests\n",
        "\n",
        "## 데이터 수집 url 및 api key 설정\n",
        "\n",
        "\n",
        "params = {\n",
        "    'serviceKey': api_key,\n",
        "    'returnType': 'json',\n",
        "    'numOfRows': '100',\n",
        "    'pageNo': '1',\n",
        "    'sidoName': '서울',\n",
        "    'ver': '1.0'\n",
        "}\n",
        "\n",
        "## 데이터 수집\n",
        "\n",
        "## 호출 성공/실패 출력\n",
        "\n"
      ],
      "metadata": {
        "id": "7yCozmQeXJcO"
      },
      "execution_count": null,
      "outputs": []
    }
  ]
}