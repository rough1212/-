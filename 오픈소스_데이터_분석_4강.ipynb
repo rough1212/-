{
  "nbformat": 4,
  "nbformat_minor": 0,
  "metadata": {
    "colab": {
      "provenance": [],
      "include_colab_link": true
    },
    "kernelspec": {
      "name": "python3",
      "display_name": "Python 3"
    },
    "language_info": {
      "name": "python"
    }
  },
  "cells": [
    {
      "cell_type": "markdown",
      "metadata": {
        "id": "view-in-github",
        "colab_type": "text"
      },
      "source": [
        "<a href=\"https://colab.research.google.com/github/rough1212/-/blob/main/%EC%98%A4%ED%94%88%EC%86%8C%EC%8A%A4_%EB%8D%B0%EC%9D%B4%ED%84%B0_%EB%B6%84%EC%84%9D_4%EA%B0%95.ipynb\" target=\"_parent\"><img src=\"https://colab.research.google.com/assets/colab-badge.svg\" alt=\"Open In Colab\"/></a>"
      ]
    },
    {
      "cell_type": "markdown",
      "source": [
        "\n",
        "\n",
        "# 오픈소스 기반 데이터 분석 4강 - 데이터 수집\n"
      ],
      "metadata": {
        "id": "DkPKaAsoRq5Q"
      }
    },
    {
      "cell_type": "markdown",
      "source": [],
      "metadata": {
        "id": "uJjBRq0CQJPi"
      }
    },
    {
      "cell_type": "markdown",
      "source": [
        "# 새 섹션"
      ],
      "metadata": {
        "id": "LFLBNJngQHGJ"
      }
    },
    {
      "cell_type": "markdown",
      "source": [
        "# 새 섹션"
      ],
      "metadata": {
        "id": "MPh_c8-xQIG8"
      }
    },
    {
      "cell_type": "code",
      "source": [
        "import requests\n",
        "import pandas as pd\n",
        "\n",
        "# ✅ 종명님 인증키\n",
        "API_KEY = \"434f5162666c6a6d3730635a72684b\"\n",
        "\n",
        "# ✅ API 기본 URL\n",
        "BASE_URL = \"http://openapi.seoul.go.kr:8088\"\n",
        "\n",
        "# ✅ 조회할 연도/월 (테스트용)\n",
        "year = 2024\n",
        "month = 1\n",
        "\n",
        "# ✅ 요청 URL 구성\n",
        "url = f\"{BASE_URL}/{API_KEY}/json/energyUseSummarryinfo/1/100/{year}/{month:02d}/\"\n",
        "\n",
        "print(f\"📡 호출 URL: {url}\")\n",
        "\n",
        "# ✅ API 호출\n",
        "response = requests.get(url)\n",
        "\n",
        "# ✅ 응답 처리\n",
        "if response.status_code == 200:\n",
        "    data = response.json()\n",
        "\n",
        "    # ✅ 데이터가 정상적으로 존재하는 경우\n",
        "    if \"energyUseSummarryinfo\" in data and \"row\" in data[\"energyUseSummarryinfo\"]:\n",
        "        rows = data[\"energyUseSummarryinfo\"][\"row\"]\n",
        "\n",
        "        # ✅ pandas DataFrame 변환\n",
        "        df = pd.DataFrame(rows)\n",
        "\n",
        "        # ✅ 데이터 미리보기\n",
        "        print(\"\\n📊 [데이터 미리보기]\")\n",
        "        print(df.head(), \"\\n\")\n",
        "\n",
        "        # ✅ 데이터 기본 정보\n",
        "        print(\"📋 [DataFrame 정보]\")\n",
        "        print(df.info(), \"\\n\")\n",
        "\n",
        "        # ✅ 통계 요약\n",
        "        print(\"📈 [기술 통계]\")\n",
        "        print(df.describe(include='all'))\n",
        "\n",
        "        # ✅ 원하면 CSV로 저장 가능\n",
        "        # df.to_csv(\"seoul_eco_energy_2024_01.csv\", index=False)\n",
        "\n",
        "    else:\n",
        "        print(f\"⚠️ {year}-{month:02d} 데이터 없음 또는 API 응답 구조 변경\")\n",
        "\n",
        "else:\n",
        "    print(f\"❌ API 호출 실패 (상태코드: {response.status_code})\")\n"
      ],
      "metadata": {
        "id": "o-4dxsgYQzzG",
        "outputId": "c6e96bf7-d6aa-4959-ed64-9fef5a7bf30b",
        "colab": {
          "base_uri": "https://localhost:8080/"
        }
      },
      "execution_count": 7,
      "outputs": [
        {
          "output_type": "stream",
          "name": "stdout",
          "text": [
            "📡 호출 URL: http://openapi.seoul.go.kr:8088/434f5162666c6a6d3730635a72684b/json/energyUseSummarryinfo/1/100/2024/01/\n",
            "⚠️ 2024-01 데이터 없음 또는 API 응답 구조 변경\n"
          ]
        }
      ]
    },
    {
      "cell_type": "code",
      "source": [
        "import requests\n",
        "import pandas as pd\n",
        "\n",
        "# ✅ 1. API 기본 설정\n",
        "API_KEY = \"434f5162666c6a6d3730635a72684b\"  # 종명님 인증키\n",
        "BASE_URL = \"http://openapi.seoul.go.kr:8088\"\n",
        "\n",
        "# ✅ 2. 수집할 연도/월 지정\n",
        "year = 2024\n",
        "month = 1\n",
        "\n",
        "# ✅ 3. API 호출 URL 생성\n",
        "url = f\"{BASE_URL}/{API_KEY}/json/energyUseSummarryinfo/1/5/{year}/{month:02d}/\"\n",
        "\n",
        "# ✅ 4. API 요청\n",
        "response = requests.get(url)\n",
        "\n",
        "# ✅ 5. 응답 확인\n",
        "if response.status_code == 200:\n",
        "    data = response.json()\n",
        "\n",
        "    # ✅ 6. 데이터가 존재하는 경우 처리\n",
        "    if \"energyUseSummarryinfo\" in data and \"row\" in data[\"energyUseSummarryinfo\"]:\n",
        "        rows = data[\"energyUseSummarryinfo\"][\"row\"]\n",
        "\n",
        "        # ✅ 7. pandas DataFrame 변환\n",
        "        df = pd.DataFrame(rows)\n",
        "\n",
        "        # ✅ 8. 기본 정보 출력\n",
        "        print(\"📊 데이터프레임 미리보기:\")\n",
        "        print(df.head(), \"\\n\")\n",
        "\n",
        "        print(\"📋 DataFrame 기본 정보:\")\n",
        "        print(df.info(), \"\\n\")\n",
        "\n",
        "        print(\"📈 통계 요약:\")\n",
        "        print(df.describe(include='all'))\n",
        "\n",
        "    else:\n",
        "        print(f\"{year}-{month:02d} 데이터 없음\")\n",
        "\n",
        "else:\n",
        "    print(f\"API 호출 실패: {response.status_code}\")\n"
      ],
      "metadata": {
        "id": "TXB0GtBkPrDT",
        "outputId": "a6bfc0cc-b98c-4598-a309-c982f1030b66",
        "colab": {
          "base_uri": "https://localhost:8080/"
        }
      },
      "execution_count": null,
      "outputs": [
        {
          "output_type": "stream",
          "name": "stdout",
          "text": [
            "2024-01 데이터 없음\n"
          ]
        }
      ]
    },
    {
      "cell_type": "code",
      "source": [
        "import requests\n",
        "import json\n",
        "\n",
        "API_KEY = \"434f5162666c6a6d3730635a72684b\"\n",
        "BASE_URL = \"http://openapi.seoul.go.kr:8088\"\n",
        "\n",
        "# 호출 테스트 (2020년 1월)\n",
        "year = 2015\n",
        "month = 1\n",
        "\n",
        "url = f\"{BASE_URL}/{API_KEY}/json/energyUseSummarryinfo/1/5/{year}/{month:02d}/\"\n",
        "print(\"호출 URL:\", url)\n",
        "\n",
        "response = requests.get(url)\n",
        "if response.status_code == 200:\n",
        "    print(\"API 호출 성공\")\n",
        "    try:\n",
        "        print(json.dumps(response.json(), indent=2, ensure_ascii=False))\n",
        "    except Exception as e:\n",
        "        print(\"JSON 디코딩 실패:\", e)\n",
        "        print(response.text)\n",
        "else:\n",
        "    print(f\"API 호출 실패: {response.status_code}\")\n"
      ],
      "metadata": {
        "colab": {
          "base_uri": "https://localhost:8080/"
        },
        "id": "eP5YysIDLOSp",
        "outputId": "7a9248a5-f172-4e94-b0e1-ac1d65fcd7be"
      },
      "execution_count": 12,
      "outputs": [
        {
          "output_type": "stream",
          "name": "stdout",
          "text": [
            "호출 URL: http://openapi.seoul.go.kr:8088/434f5162666c6a6d3730635a72684b/json/energyUseSummarryinfo/1/5/2015/01/\n",
            "API 호출 성공\n",
            "{\n",
            "  \"RESULT\": {\n",
            "    \"CODE\": \"ERROR-500\",\n",
            "    \"MESSAGE\": \"서버 오류입니다.\\n지속적으로 발생시 열린 데이터 광장으로 문의(Q&A) 바랍니다.\"\n",
            "  }\n",
            "}\n"
          ]
        }
      ]
    },
    {
      "cell_type": "code",
      "source": [
        "import requests\n",
        "import pandas as pd\n",
        "import json\n",
        "import time\n",
        "\n",
        "#API 키 입력\n",
        "API_KEY = \"434f5162666c6a6d3730635a72684b\"\n",
        "BASE_URL = \"http://openapi.seoul.go.kr:8088\"\n",
        "\n",
        "# 결과 저장 리스트\n",
        "data_list = []\n",
        "\n",
        "# 2015년 1월 ~ 2024년 12월 반복\n",
        "for year in range(2015, 2024+1):  # 2015년 1월부터 2024년 12월까지\n",
        "    for month in range(1, 12+1):\n",
        "        ym = f\"{year}-{month:02d}\"  #날짜 형식\n",
        "        url = f\"{BASE_URL}/{API_KEY}/json/energyUseSummarryinfo/1/5/{year}/{month:02d}/\"\n",
        "\n",
        "        try:\n",
        "            response = requests.get(url)\n",
        "            response.raise_for_status()\n",
        "            result = response.json()\n",
        "\n",
        "            # API 호출 성공 로그\n",
        "            if \"energyUseSummarryinfo\" in result:\n",
        "                rows = result[\"energyUseSummarryinfo\"].get(\"row\", [])\n",
        "                print(f\"api 호출 성공\")\n",
        "\n",
        "                for row in rows:\n",
        "                    # 개인 유형만 추출\n",
        "                    if row.get(\"DIV_NM\") == \"개인\":\n",
        "                        data_list.append({\n",
        "                            \"연월\": ym,\n",
        "                            \"구분\": row.get(\"DIV_NM\"),\n",
        "                            \"전기\": row.get(\"ELECTRICITY\", None),\n",
        "                            \"가스\": row.get(\"GAS\", None),\n",
        "                            \"수도\": row.get(\"WATER\", None),\n",
        "                            \"지역난방\": row.get(\"HEATING\", None)\n",
        "                        })\n",
        "            else:\n",
        "                print(f\"{ym} 호출 실패 (데이터 없음)\")\n",
        "\n",
        "        except Exception as e:\n",
        "            print(f\"{ym} 호출 오류:\", e)\n",
        "\n",
        "        time.sleep(0.05)  # 서버 부하 방지를 위한 딜레이"
      ],
      "metadata": {
        "colab": {
          "base_uri": "https://localhost:8080/"
        },
        "id": "AwoMXgZnxCRX",
        "outputId": "0d82f363-febf-4e0e-b2d9-c83003dd73d2"
      },
      "execution_count": null,
      "outputs": [
        {
          "output_type": "stream",
          "name": "stdout",
          "text": [
            "2015-01 호출 실패 (데이터 없음)\n",
            "2015-02 호출 실패 (데이터 없음)\n",
            "2015-03 호출 실패 (데이터 없음)\n",
            "2015-04 호출 실패 (데이터 없음)\n",
            "2015-05 호출 실패 (데이터 없음)\n",
            "2015-06 호출 실패 (데이터 없음)\n",
            "2015-07 호출 실패 (데이터 없음)\n",
            "2015-08 호출 실패 (데이터 없음)\n",
            "2015-09 호출 실패 (데이터 없음)\n",
            "2015-10 호출 실패 (데이터 없음)\n",
            "2015-11 호출 실패 (데이터 없음)\n",
            "2015-12 호출 실패 (데이터 없음)\n",
            "2016-01 호출 실패 (데이터 없음)\n",
            "2016-02 호출 실패 (데이터 없음)\n",
            "2016-03 호출 실패 (데이터 없음)\n",
            "2016-04 호출 실패 (데이터 없음)\n",
            "2016-05 호출 실패 (데이터 없음)\n",
            "2016-06 호출 실패 (데이터 없음)\n",
            "2016-07 호출 실패 (데이터 없음)\n",
            "2016-08 호출 실패 (데이터 없음)\n",
            "2016-09 호출 실패 (데이터 없음)\n",
            "2016-10 호출 실패 (데이터 없음)\n",
            "2016-11 호출 실패 (데이터 없음)\n",
            "2016-12 호출 실패 (데이터 없음)\n",
            "2017-01 호출 실패 (데이터 없음)\n",
            "2017-02 호출 실패 (데이터 없음)\n",
            "2017-03 호출 실패 (데이터 없음)\n",
            "2017-04 호출 실패 (데이터 없음)\n",
            "2017-05 호출 실패 (데이터 없음)\n",
            "2017-06 호출 실패 (데이터 없음)\n",
            "2017-07 호출 실패 (데이터 없음)\n",
            "2017-08 호출 실패 (데이터 없음)\n",
            "2017-09 호출 실패 (데이터 없음)\n",
            "2017-10 호출 실패 (데이터 없음)\n",
            "2017-11 호출 실패 (데이터 없음)\n",
            "2017-12 호출 실패 (데이터 없음)\n",
            "2018-01 호출 실패 (데이터 없음)\n",
            "2018-02 호출 실패 (데이터 없음)\n",
            "2018-03 호출 실패 (데이터 없음)\n",
            "2018-04 호출 실패 (데이터 없음)\n",
            "2018-05 호출 실패 (데이터 없음)\n",
            "2018-06 호출 실패 (데이터 없음)\n",
            "2018-07 호출 실패 (데이터 없음)\n",
            "2018-08 호출 실패 (데이터 없음)\n",
            "2018-09 호출 실패 (데이터 없음)\n",
            "2018-10 호출 실패 (데이터 없음)\n",
            "2018-11 호출 실패 (데이터 없음)\n",
            "2018-12 호출 실패 (데이터 없음)\n",
            "2019-01 호출 실패 (데이터 없음)\n",
            "2019-02 호출 실패 (데이터 없음)\n",
            "2019-03 호출 실패 (데이터 없음)\n",
            "2019-04 호출 실패 (데이터 없음)\n",
            "2019-05 호출 실패 (데이터 없음)\n",
            "2019-06 호출 실패 (데이터 없음)\n",
            "2019-07 호출 실패 (데이터 없음)\n",
            "2019-08 호출 실패 (데이터 없음)\n",
            "2019-09 호출 실패 (데이터 없음)\n",
            "2019-10 호출 실패 (데이터 없음)\n",
            "2019-11 호출 실패 (데이터 없음)\n",
            "2019-12 호출 실패 (데이터 없음)\n",
            "2020-01 호출 실패 (데이터 없음)\n",
            "2020-02 호출 실패 (데이터 없음)\n",
            "2020-03 호출 실패 (데이터 없음)\n",
            "2020-04 호출 실패 (데이터 없음)\n",
            "2020-05 호출 실패 (데이터 없음)\n",
            "2020-06 호출 실패 (데이터 없음)\n",
            "2020-07 호출 실패 (데이터 없음)\n",
            "2020-08 호출 실패 (데이터 없음)\n",
            "2020-09 호출 실패 (데이터 없음)\n",
            "2020-10 호출 실패 (데이터 없음)\n",
            "2020-11 호출 실패 (데이터 없음)\n",
            "2020-12 호출 실패 (데이터 없음)\n",
            "2021-01 호출 실패 (데이터 없음)\n",
            "2021-02 호출 실패 (데이터 없음)\n",
            "2021-03 호출 실패 (데이터 없음)\n",
            "2021-04 호출 실패 (데이터 없음)\n",
            "2021-05 호출 실패 (데이터 없음)\n",
            "2021-06 호출 실패 (데이터 없음)\n",
            "2021-07 호출 실패 (데이터 없음)\n",
            "2021-08 호출 실패 (데이터 없음)\n",
            "2021-09 호출 실패 (데이터 없음)\n",
            "2021-10 호출 실패 (데이터 없음)\n",
            "2021-11 호출 실패 (데이터 없음)\n",
            "2021-12 호출 실패 (데이터 없음)\n",
            "2022-01 호출 실패 (데이터 없음)\n",
            "2022-02 호출 실패 (데이터 없음)\n",
            "2022-03 호출 실패 (데이터 없음)\n",
            "2022-04 호출 실패 (데이터 없음)\n",
            "2022-05 호출 실패 (데이터 없음)\n",
            "2022-06 호출 실패 (데이터 없음)\n",
            "2022-07 호출 실패 (데이터 없음)\n",
            "2022-08 호출 실패 (데이터 없음)\n",
            "2022-09 호출 실패 (데이터 없음)\n",
            "2022-10 호출 실패 (데이터 없음)\n",
            "2022-11 호출 실패 (데이터 없음)\n",
            "2022-12 호출 실패 (데이터 없음)\n",
            "2023-01 호출 실패 (데이터 없음)\n",
            "2023-02 호출 실패 (데이터 없음)\n",
            "2023-03 호출 실패 (데이터 없음)\n",
            "2023-04 호출 실패 (데이터 없음)\n",
            "2023-05 호출 실패 (데이터 없음)\n",
            "2023-06 호출 실패 (데이터 없음)\n",
            "2023-07 호출 실패 (데이터 없음)\n",
            "2023-08 호출 실패 (데이터 없음)\n",
            "2023-09 호출 실패 (데이터 없음)\n",
            "2023-10 호출 실패 (데이터 없음)\n",
            "2023-11 호출 실패 (데이터 없음)\n",
            "2023-12 호출 실패 (데이터 없음)\n",
            "2024-01 호출 실패 (데이터 없음)\n",
            "2024-02 호출 실패 (데이터 없음)\n",
            "2024-03 호출 실패 (데이터 없음)\n",
            "2024-04 호출 실패 (데이터 없음)\n",
            "2024-05 호출 실패 (데이터 없음)\n",
            "2024-06 호출 실패 (데이터 없음)\n",
            "2024-07 호출 실패 (데이터 없음)\n",
            "2024-08 호출 실패 (데이터 없음)\n",
            "2024-09 호출 실패 (데이터 없음)\n",
            "2024-10 호출 실패 (데이터 없음)\n",
            "2024-11 호출 실패 (데이터 없음)\n",
            "2024-12 호출 실패 (데이터 없음)\n"
          ]
        }
      ]
    },
    {
      "cell_type": "markdown",
      "source": [
        "## 4-1 CSV 파일 읽기"
      ],
      "metadata": {
        "id": "-I7BVVlnRrB0"
      }
    },
    {
      "cell_type": "code",
      "source": [
        "import requests\n",
        "import pandas as pd\n",
        "import time\n",
        "import json\n",
        "\n",
        "# ✅ 본인 API 키 입력\n",
        "API_KEY = \"434f5162666c6a6d3730635a72684b\"\n",
        "BASE_URL = \"http://openapi.seoul.go.kr:8088\"\n",
        "\n",
        "# 데이터 저장용 리스트\n",
        "data_list = []\n",
        "\n",
        "# 실제 데이터가 존재하는 기간: 2018년 1월 ~ 2024년 12월\n",
        "for year in range(2018, 2025):\n",
        "    for month in range(1, 13):\n",
        "        ym = f\"{year}-{month:02d}\"\n",
        "        url = f\"{BASE_URL}/{API_KEY}/json/energyUseSummarryinfo/1/5/{year}/{month:02d}/\"\n",
        "\n",
        "        try:\n",
        "            response = requests.get(url)\n",
        "            response.raise_for_status()\n",
        "            result = response.json()\n",
        "\n",
        "            # API 호출 로그\n",
        "            if \"energyUseSummarryinfo\" in result and \"row\" in result[\"energyUseSummarryinfo\"]:\n",
        "                rows = result[\"energyUseSummarryinfo\"][\"row\"]\n",
        "                if rows:\n",
        "                    print(f\"✅ {ym} 호출 성공, 데이터 {len(rows)}건\")\n",
        "                    for row in rows:\n",
        "                        if row.get(\"DIV_NM\") == \"개인\":  # 개인 유형만 저장\n",
        "                            data_list.append({\n",
        "                                \"연월\": ym,\n",
        "                                \"구분\": row.get(\"DIV_NM\"),\n",
        "                                \"전기\": row.get(\"ELECTRICITY\", None),\n",
        "                                \"가스\": row.get(\"GAS\", None),\n",
        "                                \"수도\": row.get(\"WATER\", None),\n",
        "                                \"지역난방\": row.get(\"HEATING\", None)\n",
        "                            })\n",
        "                else:\n",
        "                    print(f\"⚠️ {ym} 호출 성공했지만 데이터 없음\")\n",
        "            else:\n",
        "                print(f\"⚠️ {ym} 호출 성공했지만 데이터 없음\")\n",
        "\n",
        "        except Exception as e:\n",
        "            print(f\"❌ {ym} 호출 오류:\", e)\n",
        "\n",
        "        time.sleep(0.2)  # 서버 부하 방지용\n",
        "\n",
        "# DataFrame으로 변환\n",
        "df = pd.DataFrame(data_list)\n",
        "\n",
        "# CSV 저장\n",
        "csv_file = \"seoul_energy_use_2018_2024.csv\"\n",
        "df.to_csv(csv_file, index=False, encoding=\"utf-8-sig\")\n",
        "\n",
        "print(f\"\\n📂 최종 저장 완료: '{csv_file}'\")\n",
        "print(\"총 수집 데이터 건수:\", len(df))\n",
        "print(df.head())\n"
      ],
      "metadata": {
        "colab": {
          "base_uri": "https://localhost:8080/"
        },
        "id": "GYjq2ld-9FDD",
        "outputId": "85198aa2-6018-4b7a-8540-79519eca3634"
      },
      "execution_count": null,
      "outputs": [
        {
          "output_type": "stream",
          "name": "stdout",
          "text": [
            "⚠️ 2018-01 호출 성공했지만 데이터 없음\n",
            "⚠️ 2018-02 호출 성공했지만 데이터 없음\n",
            "⚠️ 2018-03 호출 성공했지만 데이터 없음\n",
            "⚠️ 2018-04 호출 성공했지만 데이터 없음\n",
            "⚠️ 2018-05 호출 성공했지만 데이터 없음\n",
            "⚠️ 2018-06 호출 성공했지만 데이터 없음\n",
            "⚠️ 2018-07 호출 성공했지만 데이터 없음\n",
            "⚠️ 2018-08 호출 성공했지만 데이터 없음\n",
            "⚠️ 2018-09 호출 성공했지만 데이터 없음\n",
            "⚠️ 2018-10 호출 성공했지만 데이터 없음\n",
            "⚠️ 2018-11 호출 성공했지만 데이터 없음\n",
            "⚠️ 2018-12 호출 성공했지만 데이터 없음\n",
            "⚠️ 2019-01 호출 성공했지만 데이터 없음\n",
            "⚠️ 2019-02 호출 성공했지만 데이터 없음\n",
            "⚠️ 2019-03 호출 성공했지만 데이터 없음\n",
            "⚠️ 2019-04 호출 성공했지만 데이터 없음\n",
            "⚠️ 2019-05 호출 성공했지만 데이터 없음\n",
            "⚠️ 2019-06 호출 성공했지만 데이터 없음\n",
            "⚠️ 2019-07 호출 성공했지만 데이터 없음\n",
            "⚠️ 2019-08 호출 성공했지만 데이터 없음\n",
            "⚠️ 2019-09 호출 성공했지만 데이터 없음\n",
            "⚠️ 2019-10 호출 성공했지만 데이터 없음\n",
            "⚠️ 2019-11 호출 성공했지만 데이터 없음\n",
            "⚠️ 2019-12 호출 성공했지만 데이터 없음\n",
            "⚠️ 2020-01 호출 성공했지만 데이터 없음\n",
            "⚠️ 2020-02 호출 성공했지만 데이터 없음\n",
            "⚠️ 2020-03 호출 성공했지만 데이터 없음\n",
            "⚠️ 2020-04 호출 성공했지만 데이터 없음\n",
            "⚠️ 2020-05 호출 성공했지만 데이터 없음\n",
            "⚠️ 2020-06 호출 성공했지만 데이터 없음\n",
            "⚠️ 2020-07 호출 성공했지만 데이터 없음\n",
            "⚠️ 2020-08 호출 성공했지만 데이터 없음\n",
            "⚠️ 2020-09 호출 성공했지만 데이터 없음\n",
            "⚠️ 2020-10 호출 성공했지만 데이터 없음\n",
            "⚠️ 2020-11 호출 성공했지만 데이터 없음\n",
            "⚠️ 2020-12 호출 성공했지만 데이터 없음\n",
            "⚠️ 2021-01 호출 성공했지만 데이터 없음\n",
            "⚠️ 2021-02 호출 성공했지만 데이터 없음\n",
            "⚠️ 2021-03 호출 성공했지만 데이터 없음\n",
            "⚠️ 2021-04 호출 성공했지만 데이터 없음\n",
            "⚠️ 2021-05 호출 성공했지만 데이터 없음\n",
            "⚠️ 2021-06 호출 성공했지만 데이터 없음\n",
            "⚠️ 2021-07 호출 성공했지만 데이터 없음\n",
            "⚠️ 2021-08 호출 성공했지만 데이터 없음\n",
            "⚠️ 2021-09 호출 성공했지만 데이터 없음\n",
            "⚠️ 2021-10 호출 성공했지만 데이터 없음\n",
            "⚠️ 2021-11 호출 성공했지만 데이터 없음\n",
            "⚠️ 2021-12 호출 성공했지만 데이터 없음\n",
            "⚠️ 2022-01 호출 성공했지만 데이터 없음\n",
            "⚠️ 2022-02 호출 성공했지만 데이터 없음\n",
            "⚠️ 2022-03 호출 성공했지만 데이터 없음\n",
            "⚠️ 2022-04 호출 성공했지만 데이터 없음\n",
            "⚠️ 2022-05 호출 성공했지만 데이터 없음\n",
            "⚠️ 2022-06 호출 성공했지만 데이터 없음\n",
            "⚠️ 2022-07 호출 성공했지만 데이터 없음\n",
            "⚠️ 2022-08 호출 성공했지만 데이터 없음\n",
            "⚠️ 2022-09 호출 성공했지만 데이터 없음\n",
            "⚠️ 2022-10 호출 성공했지만 데이터 없음\n",
            "⚠️ 2022-11 호출 성공했지만 데이터 없음\n",
            "⚠️ 2022-12 호출 성공했지만 데이터 없음\n",
            "⚠️ 2023-01 호출 성공했지만 데이터 없음\n",
            "⚠️ 2023-02 호출 성공했지만 데이터 없음\n",
            "⚠️ 2023-03 호출 성공했지만 데이터 없음\n",
            "⚠️ 2023-04 호출 성공했지만 데이터 없음\n",
            "⚠️ 2023-05 호출 성공했지만 데이터 없음\n",
            "⚠️ 2023-06 호출 성공했지만 데이터 없음\n",
            "⚠️ 2023-07 호출 성공했지만 데이터 없음\n",
            "⚠️ 2023-08 호출 성공했지만 데이터 없음\n",
            "⚠️ 2023-09 호출 성공했지만 데이터 없음\n",
            "⚠️ 2023-10 호출 성공했지만 데이터 없음\n",
            "⚠️ 2023-11 호출 성공했지만 데이터 없음\n",
            "⚠️ 2023-12 호출 성공했지만 데이터 없음\n",
            "⚠️ 2024-01 호출 성공했지만 데이터 없음\n",
            "⚠️ 2024-02 호출 성공했지만 데이터 없음\n",
            "⚠️ 2024-03 호출 성공했지만 데이터 없음\n",
            "⚠️ 2024-04 호출 성공했지만 데이터 없음\n",
            "⚠️ 2024-05 호출 성공했지만 데이터 없음\n",
            "⚠️ 2024-06 호출 성공했지만 데이터 없음\n",
            "⚠️ 2024-07 호출 성공했지만 데이터 없음\n",
            "⚠️ 2024-08 호출 성공했지만 데이터 없음\n",
            "⚠️ 2024-09 호출 성공했지만 데이터 없음\n",
            "⚠️ 2024-10 호출 성공했지만 데이터 없음\n",
            "⚠️ 2024-11 호출 성공했지만 데이터 없음\n",
            "⚠️ 2024-12 호출 성공했지만 데이터 없음\n",
            "\n",
            "📂 최종 저장 완료: 'seoul_energy_use_2018_2024.csv'\n",
            "총 수집 데이터 건수: 0\n",
            "Empty DataFrame\n",
            "Columns: []\n",
            "Index: []\n"
          ]
        }
      ]
    },
    {
      "cell_type": "code",
      "source": [
        "import pandas as pd\n",
        "\n",
        "## data.csv 파일 읽기\n",
        "\n",
        "print(df)"
      ],
      "metadata": {
        "id": "2Y2HEiaiRwAI"
      },
      "execution_count": null,
      "outputs": []
    },
    {
      "cell_type": "markdown",
      "source": [
        "## 4-2 JSON 파일 읽기\n",
        "\n"
      ],
      "metadata": {
        "id": "9kHCFaGlRrE0"
      }
    },
    {
      "cell_type": "code",
      "source": [
        "import json\n",
        "import pandas as pd\n",
        "\n",
        "## data.json 파일 출력\n",
        "\n",
        "## data.json 파일 DataFrame 읽기\n",
        "\n",
        "print(df)"
      ],
      "metadata": {
        "id": "IO8bsKekR0W_"
      },
      "execution_count": null,
      "outputs": []
    },
    {
      "cell_type": "markdown",
      "source": [
        "## 4-3 텍스트 파일 읽기 및 데이터 추출"
      ],
      "metadata": {
        "id": "uLd_3A_IRrHG"
      }
    },
    {
      "cell_type": "code",
      "source": [
        "import re\n",
        "\n",
        "## 파일(callcenter20250301.log) 오픈 및 읽기\n",
        "with open('callcenter20250301.log', 'r', encoding='utf-8') as f:\n",
        "    content = f.read()\n",
        "## 주민등록번호 패턴 생성\n",
        "\n",
        "## 주민등록번호 마스킹\n",
        "\n",
        "\n",
        "## 마스킹된 파일(callcenter20250301_masked.log) 오픈 및 쓰기\n",
        "\n",
        "\n",
        "print(\"주민등록번호 마스킹 완료. 'callcenter20250301_masked.log.txt' 파일로 저장되었습니다.\")"
      ],
      "metadata": {
        "id": "60qOf7uxVdAg"
      },
      "execution_count": null,
      "outputs": []
    },
    {
      "cell_type": "markdown",
      "source": [
        "## 4-4 Open-Meteo의 무료 날씨 API를 통한 특정 지역 온도 조회"
      ],
      "metadata": {
        "id": "eOMufu5SXiAU"
      }
    },
    {
      "cell_type": "code",
      "source": [
        "import requests\n",
        "import json\n",
        "\n",
        "url = \"https://api.open-meteo.com/v1/forecast?=&=&current=temperature_2m\"\n",
        "params = {\n",
        "    \"latitude\": \"37.58638333\",\n",
        "    \"longitude\": \"127.0203333\",\n",
        "    \"current\": \"temperature_2m\"\n",
        "}\n",
        "\n",
        "try:\n",
        "    ## URL 및 파라미터 전송\n",
        "\n",
        "    ## JSON 데이터 읽기\n",
        "\n",
        "    print(\"API 응답:\", data)\n",
        "    print(\"서울시 종로구의 현재 온도는 : {0}{1} 입니다.\".format(data['current']['temperature_2m'], data['current_units']['temperature_2m']))\n",
        "\n",
        "except requests.exceptions.RequestException as e:\n",
        "    print(f\"API 호출 실패: {e}\")\n",
        "except json.JSONDecodeError as e:\n",
        "    print(f\"JSON 파싱 실패: {e}\")"
      ],
      "metadata": {
        "id": "JpmgdsW9V0CY"
      },
      "execution_count": null,
      "outputs": []
    },
    {
      "cell_type": "markdown",
      "source": [
        "## 4-5 Selenium과 lxml을 이용한 웹 스크래핑"
      ],
      "metadata": {
        "id": "RLfPaa1ZiqIC"
      }
    },
    {
      "cell_type": "code",
      "source": [
        "!curl -o google-chrome-stable_current_amd64.deb https://dl.google.com/linux/direct/google-chrome-stable_current_amd64.deb\n",
        "!apt install ./google-chrome-stable_current_amd64.deb -y\n",
        "!pip install selenium webdriver_manager"
      ],
      "metadata": {
        "id": "79dmM7MNk8pB"
      },
      "execution_count": null,
      "outputs": []
    },
    {
      "cell_type": "code",
      "source": [
        "from selenium import webdriver\n",
        "from selenium.webdriver.chrome.service import Service as ChromeService\n",
        "from webdriver_manager.chrome import ChromeDriverManager\n",
        "from selenium.webdriver.common.by import By\n",
        "from lxml import html\n",
        "import time\n",
        "\n",
        "chrome_options = webdriver.ChromeOptions()\n",
        "chrome_options.add_argument('--headless')               # 브라우저 창 없이 실행\n",
        "chrome_options.add_argument('--no-sandbox')             # 보안모드 비활성화 (Colab 필수)\n",
        "chrome_options.add_argument('--disable-dev-shm-usage')  # 메모리 부족 방지 (Colab 필수)\n",
        "chrome_options.add_argument('--window-size=1920x1080')  # 창 크기 설정(가상)\n",
        "chrome_options.add_argument('--disable-gpu')            # GPU 가속 비활성화 (일부 환경 안정성)\n",
        "chrome_options.binary_location = \"/usr/bin/google-chrome-stable\"  # Colab용 크롬 경로 지정\n",
        "\n",
        "## 드라이버 실행\n",
        "driver = webdriver.Chrome(options=chrome_options)\n",
        "\n",
        "## 사이트 접속\n",
        "\n",
        "\n",
        "## 사이트 접속 대기\n",
        "\n",
        "\n",
        "## 페이지 제목 출력\n",
        "\n",
        "\n",
        "## 드라이버 종료\n",
        "driver.quit()"
      ],
      "metadata": {
        "id": "cRC8x3_iW0im"
      },
      "execution_count": null,
      "outputs": []
    },
    {
      "cell_type": "markdown",
      "source": [
        "\n",
        "# 실습 시나리오"
      ],
      "metadata": {
        "id": "Bu6OMZyGirOq"
      }
    },
    {
      "cell_type": "markdown",
      "source": [
        "## 공공데이터 포털 가입 및 데이터 신청\n",
        "\n",
        "- [https://www.data.go.kr](https://www.data.go.kr)\n",
        "- 한국환경공단 에어코리아 대기오염정보 데이터 신청"
      ],
      "metadata": {
        "id": "nsuqRN9RkZlW"
      }
    },
    {
      "cell_type": "code",
      "source": [
        "import requests\n",
        "\n",
        "## 데이터 수집 url 및 api key 설정\n",
        "\n",
        "\n",
        "params = {\n",
        "    'serviceKey': api_key,\n",
        "    'returnType': 'json',\n",
        "    'numOfRows': '100',\n",
        "    'pageNo': '1',\n",
        "    'sidoName': '서울',\n",
        "    'ver': '1.0'\n",
        "}\n",
        "\n",
        "## 데이터 수집\n",
        "\n",
        "## 호출 성공/실패 출력\n",
        "\n"
      ],
      "metadata": {
        "id": "7yCozmQeXJcO"
      },
      "execution_count": null,
      "outputs": []
    }
  ]
}